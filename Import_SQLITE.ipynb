{
 "cells": [
  {
   "cell_type": "code",
   "execution_count": 4,
   "metadata": {},
   "outputs": [],
   "source": [
    "from sqlalchemy import create_engine, Column, Integer, String\n",
    "from sqlalchemy.ext.declarative import declarative_base\n",
    "from sqlalchemy.orm import Session\n",
    "import pymysql\n",
    "import pandas as pd\n",
    "import warnings\n",
    "import os\n",
    "pymysql.install_as_MySQLdb()\n",
    "warnings.filterwarnings(\"ignore\")"
   ]
  },
  {
   "cell_type": "markdown",
   "metadata": {},
   "source": [
    "### Make sure only disease.csv files are showing"
   ]
  },
  {
   "cell_type": "code",
   "execution_count": 2,
   "metadata": {},
   "outputs": [
    {
     "data": {
      "text/plain": [
       "['Pertussis.csv',\n",
       " 'Typhoid.csv',\n",
       " 'Hep A.csv',\n",
       " 'Hep B.csv',\n",
       " 'Smallpox.csv',\n",
       " 'Varicella.csv',\n",
       " 'Diptheria.csv',\n",
       " 'Rubella.csv',\n",
       " 'Measles.csv',\n",
       " 'Tuberculosis.csv',\n",
       " 'Mumps.csv']"
      ]
     },
     "execution_count": 2,
     "metadata": {},
     "output_type": "execute_result"
    }
   ],
   "source": [
    "filelist = os.listdir(\"Raw_Data\")\n",
    "filelist"
   ]
  },
  {
   "cell_type": "markdown",
   "metadata": {},
   "source": [
    "### Pulls in csv file and formats dataframes to be appended into one clean dataframe"
   ]
  },
  {
   "cell_type": "code",
   "execution_count": 3,
   "metadata": {},
   "outputs": [],
   "source": [
    "cleaned_df = pd.DataFrame({'Disease': [], 'Fatalities': [], 'State': [], 'City': [], 'PeriodStartDate': [], 'PeriodEndDate': []})\n",
    "for file in filelist:\n",
    "    df = pd.read_csv(\"Raw_Data/\"+file)\n",
    "    df_new = df[['ConditionName', 'Fatalities', 'Admin1Name', 'CityName', 'PeriodStartDate', 'PeriodEndDate']]\n",
    "    df_renamed = df_new.rename(columns={'ConditionName':'Disease','Admin1Name':'State','CityName':'City'})\n",
    "    df_renamed['PeriodStartDate'] = df_renamed['PeriodStartDate'].apply(pd.to_datetime, errors='coerce')\n",
    "    df_renamed['PeriodEndDate'] = df_renamed['PeriodEndDate'].apply(pd.to_datetime, errors='coerce')\n",
    "    cleaned_df = cleaned_df.append(df_renamed, ignore_index=True)   "
   ]
  },
  {
   "cell_type": "markdown",
   "metadata": {},
   "source": [
    "### Save cleaned_df as .csv"
   ]
  },
  {
   "cell_type": "code",
   "execution_count": null,
   "metadata": {},
   "outputs": [],
   "source": [
    "cleaned_df.to_csv(\"Output/cleaned_df.csv\", index=False, header=True)"
   ]
  },
  {
   "cell_type": "markdown",
   "metadata": {},
   "source": [
    "### Create sqlite database connection"
   ]
  },
  {
   "cell_type": "code",
   "execution_count": 5,
   "metadata": {},
   "outputs": [],
   "source": [
    "Base = declarative_base()\n",
    "class Disease(Base):\n",
    "    __tablename__ = 'diseases'\n",
    "    id = Column(Integer, primary_key=True)\n",
    "    Disease = Column(String(255))\n",
    "    Fatalities = Column(Integer)\n",
    "    State = Column(String(255))\n",
    "    City = Column(String(255))\n",
    "    PeriodStartDate = Column(String(255))\n",
    "    PeriodEndDate = Column(String(255))"
   ]
  },
  {
   "cell_type": "code",
   "execution_count": 6,
   "metadata": {},
   "outputs": [],
   "source": [
    "engine = create_engine(\"sqlite:///diseases.sqlite\")\n",
    "conn = engine.connect()\n",
    "Base.metadata.create_all(conn)\n",
    "session = Session(bind=engine)"
   ]
  },
  {
   "cell_type": "code",
   "execution_count": 7,
   "metadata": {},
   "outputs": [],
   "source": [
    "cleaned_df.to_sql(\"diseases\", conn, if_exists='append', index=False)"
   ]
  }
 ],
 "metadata": {
  "kernelspec": {
   "display_name": "Python 3",
   "language": "python",
   "name": "python3"
  },
  "language_info": {
   "codemirror_mode": {
    "name": "ipython",
    "version": 3
   },
   "file_extension": ".py",
   "mimetype": "text/x-python",
   "name": "python",
   "nbconvert_exporter": "python",
   "pygments_lexer": "ipython3",
   "version": "3.7.2"
  },
  "varInspector": {
   "cols": {
    "lenName": 16,
    "lenType": 16,
    "lenVar": 40
   },
   "kernels_config": {
    "python": {
     "delete_cmd_postfix": "",
     "delete_cmd_prefix": "del ",
     "library": "var_list.py",
     "varRefreshCmd": "print(var_dic_list())"
    },
    "r": {
     "delete_cmd_postfix": ") ",
     "delete_cmd_prefix": "rm(",
     "library": "var_list.r",
     "varRefreshCmd": "cat(var_dic_list()) "
    }
   },
   "types_to_exclude": [
    "module",
    "function",
    "builtin_function_or_method",
    "instance",
    "_Feature"
   ],
   "window_display": false
  }
 },
 "nbformat": 4,
 "nbformat_minor": 2
}
