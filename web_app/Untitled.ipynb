{
 "cells": [
  {
   "cell_type": "code",
   "execution_count": 1,
   "metadata": {},
   "outputs": [],
   "source": [
    "import os\n",
    "import numpy as np\n",
    "import pandas as pd\n",
    "import sqlalchemy\n",
    "\n",
    "from sqlalchemy.ext.automap import automap_base\n",
    "from sqlalchemy.orm import Session\n",
    "from sqlalchemy import create_engine, func\n",
    "from sqlalchemy import extract"
   ]
  },
  {
   "cell_type": "code",
   "execution_count": 2,
   "metadata": {},
   "outputs": [],
   "source": [
    "engine = create_engine(\"sqlite:///diseases.sqlite\")\n",
    "\n",
    "# reflect an existing database into a new model\n",
    "Base = automap_base()\n",
    "# reflect the tables\n",
    "Base.prepare(engine, reflect=True)\n",
    "\n",
    "# Save references to each table\n",
    "Disease_Data = Base.classes.diseases\n",
    "session = Session(engine)\n",
    "# from models.py import Disease"
   ]
  },
  {
   "cell_type": "code",
   "execution_count": 3,
   "metadata": {},
   "outputs": [],
   "source": [
    "results = session.query(Disease_Data.Disease,func.sum(Disease_Data.CountValue),func.sum(Disease_Data.Fatalities),Disease_Data.Year).\\\n",
    "    group_by(Disease_Data.Disease).group_by(Disease_Data.Year).statement\n",
    "df = pd.read_sql_query(results, session.bind)"
   ]
  },
  {
   "cell_type": "code",
   "execution_count": 4,
   "metadata": {},
   "outputs": [
    {
     "data": {
      "text/html": [
       "<div>\n",
       "<style scoped>\n",
       "    .dataframe tbody tr th:only-of-type {\n",
       "        vertical-align: middle;\n",
       "    }\n",
       "\n",
       "    .dataframe tbody tr th {\n",
       "        vertical-align: top;\n",
       "    }\n",
       "\n",
       "    .dataframe thead th {\n",
       "        text-align: right;\n",
       "    }\n",
       "</style>\n",
       "<table border=\"1\" class=\"dataframe\">\n",
       "  <thead>\n",
       "    <tr style=\"text-align: right;\">\n",
       "      <th></th>\n",
       "      <th>Disease</th>\n",
       "      <th>sum_1</th>\n",
       "      <th>sum_2</th>\n",
       "      <th>Year</th>\n",
       "    </tr>\n",
       "  </thead>\n",
       "  <tbody>\n",
       "    <tr>\n",
       "      <th>0</th>\n",
       "      <td>Diphtheria</td>\n",
       "      <td>4237</td>\n",
       "      <td>1293</td>\n",
       "      <td>1900</td>\n",
       "    </tr>\n",
       "    <tr>\n",
       "      <th>1</th>\n",
       "      <td>Diphtheria</td>\n",
       "      <td>3216</td>\n",
       "      <td>1215</td>\n",
       "      <td>1901</td>\n",
       "    </tr>\n",
       "    <tr>\n",
       "      <th>2</th>\n",
       "      <td>Diphtheria</td>\n",
       "      <td>3242</td>\n",
       "      <td>1307</td>\n",
       "      <td>1902</td>\n",
       "    </tr>\n",
       "    <tr>\n",
       "      <th>3</th>\n",
       "      <td>Diphtheria</td>\n",
       "      <td>3222</td>\n",
       "      <td>1210</td>\n",
       "      <td>1903</td>\n",
       "    </tr>\n",
       "    <tr>\n",
       "      <th>4</th>\n",
       "      <td>Diphtheria</td>\n",
       "      <td>2755</td>\n",
       "      <td>1114</td>\n",
       "      <td>1904</td>\n",
       "    </tr>\n",
       "  </tbody>\n",
       "</table>\n",
       "</div>"
      ],
      "text/plain": [
       "      Disease  sum_1  sum_2  Year\n",
       "0  Diphtheria   4237   1293  1900\n",
       "1  Diphtheria   3216   1215  1901\n",
       "2  Diphtheria   3242   1307  1902\n",
       "3  Diphtheria   3222   1210  1903\n",
       "4  Diphtheria   2755   1114  1904"
      ]
     },
     "execution_count": 4,
     "metadata": {},
     "output_type": "execute_result"
    }
   ],
   "source": [
    "df.head()"
   ]
  },
  {
   "cell_type": "code",
   "execution_count": 5,
   "metadata": {},
   "outputs": [],
   "source": [
    "disease = ['Diphtheria',\n",
    "           'Measles',\n",
    "           'Mumps',\n",
    "           'Pertussis',\n",
    "           'Rubella',\n",
    "           'Smallpox',\n",
    "           'Tuberculosis',\n",
    "           'Typhoid fever',\n",
    "           'Varicella',\n",
    "           'Viral hepatitis type B',\n",
    "           'Viral hepatitis, type A']\n",
    "\n",
    "vacyear = [1920,1963,1967,1930,1969,1796,1921,1896,1995,1982,1995]\n",
    "col = ['#8dd3c7', '#bebada', '#fb8072', '#80b1d3', '#fdb462', '#b3de69', '#fccde5', '#d9d9d9', '#bc80bd', '#ccebc5', '#ffed6f'];"
   ]
  },
  {
   "cell_type": "code",
   "execution_count": 6,
   "metadata": {},
   "outputs": [
    {
     "name": "stdout",
     "output_type": "stream",
     "text": [
      "1 Diphtheria : 1920\n",
      "1 Measles : 1963\n",
      "1 Mumps : 1967\n",
      "1 Pertussis : 1930\n",
      "1 Rubella : 1969\n",
      "0 Smallpox : 1796\n",
      "1 Tuberculosis : 1921\n",
      "0 Typhoid fever : 1896\n",
      "0 Varicella : 1995\n",
      "1 Viral hepatitis type B : 1982\n",
      "1 Viral hepatitis, type A : 1995\n"
     ]
    }
   ],
   "source": [
    "vacount = [] \n",
    "for i in range(0,len(disease)):\n",
    "    df1 = df.loc[(df['Disease'] == disease[i])&\n",
    "                (df['Year']==vacyear[i])]\n",
    "    if len(df1) == 0:\n",
    "        vacount.append(0)\n",
    "    else:\n",
    "        vacount.append(df1.iloc[0]['sum_1'])\n",
    "    print(f'{len(df1)} {disease[i]} : {vacyear[i]}')"
   ]
  },
  {
   "cell_type": "code",
   "execution_count": 7,
   "metadata": {},
   "outputs": [
    {
     "name": "stdout",
     "output_type": "stream",
     "text": [
      "[69470, 331082, 2498, 37216, 50998, 0, 75290, 0, 0, 17929, 294]\n",
      "[1920, 1963, 1967, 1930, 1969, 1796, 1921, 1896, 1995, 1982, 1995]\n",
      "['Diphtheria', 'Measles', 'Mumps', 'Pertussis', 'Rubella', 'Smallpox', 'Tuberculosis', 'Typhoid fever', 'Varicella', 'Viral hepatitis type B', 'Viral hepatitis, type A']\n",
      "Disease: Diphtheria Year: 1920 Mag: 69470\n",
      "Disease: Measles Year: 1963 Mag: 331082\n",
      "Disease: Mumps Year: 1967 Mag: 2498\n",
      "Disease: Pertussis Year: 1930 Mag: 37216\n",
      "Disease: Rubella Year: 1969 Mag: 50998\n",
      "Disease: Smallpox Year: 1796 Mag: 0\n",
      "Disease: Tuberculosis Year: 1921 Mag: 75290\n",
      "Disease: Typhoid fever Year: 1896 Mag: 0\n",
      "Disease: Varicella Year: 1995 Mag: 0\n",
      "Disease: Viral hepatitis type B Year: 1982 Mag: 17929\n",
      "Disease: Viral hepatitis, type A Year: 1995 Mag: 294\n"
     ]
    }
   ],
   "source": [
    "print(vacount)\n",
    "print(vacyear)\n",
    "print(disease)\n",
    "\n",
    "for i in range(0,len(vacount)):\n",
    "    print(f'Disease: {disease[i]} Year: {vacyear[i]} Mag: {vacount[i]}')"
   ]
  },
  {
   "cell_type": "code",
   "execution_count": 47,
   "metadata": {},
   "outputs": [
    {
     "ename": "SyntaxError",
     "evalue": "invalid syntax (<ipython-input-47-01422d1c519e>, line 1)",
     "output_type": "error",
     "traceback": [
      "\u001b[1;36m  File \u001b[1;32m\"<ipython-input-47-01422d1c519e>\"\u001b[1;36m, line \u001b[1;32m1\u001b[0m\n\u001b[1;33m    var vacy = [69470, 17929, 294, 331082, 2498, 37216, 50998, 0, 75290, 0, 0]\u001b[0m\n\u001b[1;37m           ^\u001b[0m\n\u001b[1;31mSyntaxError\u001b[0m\u001b[1;31m:\u001b[0m invalid syntax\n"
     ]
    }
   ],
   "source": [
    "var vacy = [69470, 331082, 2498, 37216, 50998, 0, 75290, 0, 0, 17929, 294]\n",
    "var vacd = ['Diphtheria', 'Measles', 'Mumps', 'Pertussis', 'Rubella', 'Smallpox', 'Tuberculosis', 'Typhoid fever', 'Varicella', 'Viral hepatitis type B', 'Viral hepatitis, type A']\n",
    "var vacx = [1920, 1963, 1967, 1930, 1969, 1796, 1921, 1896, 1995, 1982, 1995]"
   ]
  },
  {
   "cell_type": "code",
   "execution_count": 54,
   "metadata": {},
   "outputs": [],
   "source": [
    "\n",
    "circleData = [\n",
    "    {'cx': vacyear[0], 'cy': vacount[0], 'radius':5, 'color': col[0],'disease':disease[0]},\n",
    "    {'cx': vacyear[1], 'cy': vacount[1], 'radius':5, 'color': col[1],'disease':disease[1]},\n",
    "    {'cx': vacyear[2], 'cy': vacount[2], 'radius':5, 'color': col[2],'disease':disease[2]},\n",
    "    {'cx': vacyear[3], 'cy': vacount[3], 'radius':5, 'color': col[3],'disease':disease[3]},\n",
    "    {'cx': vacyear[4], 'cy': vacount[4], 'radius':5, 'color': col[4],'disease':disease[4]},\n",
    "    {'cx': vacyear[5], 'cy': vacount[5], 'radius':5, 'color': col[5],'disease':disease[5]},\n",
    "    {'cx': vacyear[6], 'cy': vacount[6], 'radius':5, 'color': col[6],'disease':disease[6]},\n",
    "    {'cx': vacyear[7], 'cy': vacount[7], 'radius':5, 'color': col[7],'disease':disease[7]},\n",
    "    {'cx': vacyear[8], 'cy': vacount[8], 'radius':5, 'color': col[8],'disease':disease[8]},\n",
    "    {'cx': vacyear[9], 'cy': vacount[9], 'radius':5, 'color': col[9],'disease':disease[9]},\n",
    "    {'cx': vacyear[10], 'cy': vacount[10], 'radius':5, 'color': col[10],'disease':disease[10]},\n",
    "]"
   ]
  },
  {
   "cell_type": "code",
   "execution_count": 55,
   "metadata": {},
   "outputs": [
    {
     "name": "stdout",
     "output_type": "stream",
     "text": [
      "[{'cx': 1920, 'cy': 69470, 'radius': 5, 'color': '#8dd3c7', 'disease': 'Diphtheria'}, {'cx': 1963, 'cy': 331082, 'radius': 5, 'color': '#bebada', 'disease': 'Measles'}, {'cx': 1967, 'cy': 2498, 'radius': 5, 'color': '#fb8072', 'disease': 'Mumps'}, {'cx': 1930, 'cy': 37216, 'radius': 5, 'color': '#80b1d3', 'disease': 'Pertussis'}, {'cx': 1969, 'cy': 50998, 'radius': 5, 'color': '#fdb462', 'disease': 'Rubella'}, {'cx': 1796, 'cy': 0, 'radius': 5, 'color': '#b3de69', 'disease': 'Smallpox'}, {'cx': 1921, 'cy': 75290, 'radius': 5, 'color': '#fccde5', 'disease': 'Tuberculosis'}, {'cx': 1896, 'cy': 0, 'radius': 5, 'color': '#d9d9d9', 'disease': 'Typhoid fever'}, {'cx': 1995, 'cy': 0, 'radius': 5, 'color': '#bc80bd', 'disease': 'Varicella'}, {'cx': 1982, 'cy': 17929, 'radius': 5, 'color': '#ccebc5', 'disease': 'Viral hepatitis type B'}, {'cx': 1995, 'cy': 294, 'radius': 5, 'color': '#ffed6f', 'disease': 'Viral hepatitis, type A'}]\n"
     ]
    }
   ],
   "source": [
    "print(circleData)"
   ]
  },
  {
   "cell_type": "code",
   "execution_count": null,
   "metadata": {},
   "outputs": [],
   "source": []
  }
 ],
 "metadata": {
  "kernelspec": {
   "display_name": "Python 3",
   "language": "python",
   "name": "python3"
  },
  "language_info": {
   "codemirror_mode": {
    "name": "ipython",
    "version": 3
   },
   "file_extension": ".py",
   "mimetype": "text/x-python",
   "name": "python",
   "nbconvert_exporter": "python",
   "pygments_lexer": "ipython3",
   "version": "3.7.1"
  }
 },
 "nbformat": 4,
 "nbformat_minor": 2
}
